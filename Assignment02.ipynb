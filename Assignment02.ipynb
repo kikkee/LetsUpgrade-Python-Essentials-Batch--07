{
 "cells": [
  {
   "cell_type": "code",
   "execution_count": 26,
   "metadata": {},
   "outputs": [],
   "source": [
    "#LetsUpgrade Python Essentials Batch 07"
   ]
  },
  {
   "cell_type": "code",
   "execution_count": null,
   "metadata": {},
   "outputs": [],
   "source": [
    "#Assignment 02 Day 03"
   ]
  },
  {
   "cell_type": "code",
   "execution_count": 1,
   "metadata": {},
   "outputs": [],
   "source": [
    "#Question 1\n",
    "#You all are Pilots, you want to land a plane safely, so altitude required for landing a plane is\n",
    "#1000ft, it it is less than tell pilot to land the plane, or it is more than that but less than 5000ft ask\n",
    "#the pilot to “come down to 1000ft”, else if it more than 5000ft ask the pilot to “go around and try\n",
    "#later”\n"
   ]
  },
  {
   "cell_type": "code",
   "execution_count": 5,
   "metadata": {},
   "outputs": [
    {
     "name": "stdout",
     "output_type": "stream",
     "text": [
      "Welcome to Control Room!\n",
      "Yor are at Risk! Come down to 1000ft\n"
     ]
    }
   ],
   "source": [
    "print(\"Welcome to Control Room!\")\n",
    "Altitude = 1500\n",
    "if Altitude <= 1000:\n",
    "    print('Yor are safe to Land!')\n",
    "elif Altitude <= 5000:\n",
    "    print(\"Yor are at Risk! Come down to 1000ft\")\n",
    "else:\n",
    "    print(\"Go around and try later\")"
   ]
  },
  {
   "cell_type": "code",
   "execution_count": 6,
   "metadata": {},
   "outputs": [],
   "source": [
    "#Question 2\n",
    "#Using for loop please print all the prime numbers between 1- 200 using FOR LOOP AND RANGE\n",
    "#function.\n"
   ]
  },
  {
   "cell_type": "code",
   "execution_count": 25,
   "metadata": {},
   "outputs": [
    {
     "name": "stdout",
     "output_type": "stream",
     "text": [
      "2\n",
      "3\n",
      "5\n",
      "7\n",
      "11\n",
      "13\n",
      "17\n",
      "19\n",
      "23\n",
      "29\n",
      "31\n",
      "37\n",
      "41\n",
      "43\n",
      "47\n",
      "53\n",
      "59\n",
      "61\n",
      "67\n",
      "71\n",
      "73\n",
      "79\n",
      "83\n",
      "89\n",
      "97\n",
      "101\n",
      "103\n",
      "107\n",
      "109\n",
      "113\n",
      "127\n",
      "131\n",
      "137\n",
      "139\n",
      "149\n",
      "151\n",
      "157\n",
      "163\n",
      "167\n",
      "173\n",
      "179\n",
      "181\n",
      "191\n",
      "193\n",
      "197\n",
      "199\n"
     ]
    }
   ],
   "source": [
    "u=200\n",
    "for num in range(2,u+1):\n",
    "    k=0\n",
    "    if num > 1:\n",
    "        for i in range(2,num//2+1):\n",
    "            if(num%i) == 0:\n",
    "                k=k+1\n",
    "        if(k<=0):\n",
    "            print(num)"
   ]
  }
 ],
 "metadata": {
  "kernelspec": {
   "display_name": "Python 3",
   "language": "python",
   "name": "python3"
  },
  "language_info": {
   "codemirror_mode": {
    "name": "ipython",
    "version": 3
   },
   "file_extension": ".py",
   "mimetype": "text/x-python",
   "name": "python",
   "nbconvert_exporter": "python",
   "pygments_lexer": "ipython3",
   "version": "3.7.6"
  }
 },
 "nbformat": 4,
 "nbformat_minor": 4
}

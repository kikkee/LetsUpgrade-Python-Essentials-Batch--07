{
 "cells": [
  {
   "cell_type": "code",
   "execution_count": 1,
   "metadata": {},
   "outputs": [],
   "source": [
    "#LetsUpgrade Python Essentials Batch 07"
   ]
  },
  {
   "cell_type": "code",
   "execution_count": 2,
   "metadata": {},
   "outputs": [],
   "source": [
    "#Assignment 03 Day 04"
   ]
  },
  {
   "cell_type": "code",
   "execution_count": 3,
   "metadata": {},
   "outputs": [],
   "source": [
    "#Question 1\n",
    "#Print the first ArmStrong number in the range of 1042000 to 702648265 and exit the loop as soon\n",
    "#as you encounter the first armstrong number.\n",
    "#Use while loop"
   ]
  },
  {
   "cell_type": "code",
   "execution_count": null,
   "metadata": {},
   "outputs": [],
   "source": [
    "i=1042000\n",
    "while i<=702648265:\n",
    "    temp=i\n",
    "    summ=0\n",
    "    while temp!=0:\n",
    "        digit=temp%10\n",
    "        summ=summ+digit**3\n",
    "        temp=temp//10\n",
    "    if i==summ:\n",
    "        print(\"The first armstrong number is\",i)\n",
    "        break\n",
    "    else:\n",
    "         i=i+1\n",
    "         continue"
   ]
  }
 ],
 "metadata": {
  "kernelspec": {
   "display_name": "Python 3",
   "language": "python",
   "name": "python3"
  },
  "language_info": {
   "codemirror_mode": {
    "name": "ipython",
    "version": 3
   },
   "file_extension": ".py",
   "mimetype": "text/x-python",
   "name": "python",
   "nbconvert_exporter": "python",
   "pygments_lexer": "ipython3",
   "version": "3.7.6"
  }
 },
 "nbformat": 4,
 "nbformat_minor": 4
}

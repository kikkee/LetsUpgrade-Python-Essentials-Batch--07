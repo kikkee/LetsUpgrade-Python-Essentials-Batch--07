{
 "cells": [
  {
   "cell_type": "code",
   "execution_count": 1,
   "metadata": {},
   "outputs": [],
   "source": [
    "#LetsUpgrade Python Essentials Batch 07"
   ]
  },
  {
   "cell_type": "code",
   "execution_count": 2,
   "metadata": {},
   "outputs": [],
   "source": [
    "#Assignment 05 Day 06"
   ]
  },
  {
   "cell_type": "code",
   "execution_count": 3,
   "metadata": {},
   "outputs": [],
   "source": [
    "#Question 1\n",
    "#For this challenge,create a bank account class that has two attributes\n",
    "#*ownerName\n",
    "#*Balance\n",
    "#And two methods\n",
    "#*deposit\n",
    "#*withdraw\n",
    "#As an added requirement,withdrawals may not exceed the available balance.\n",
    "#Instantiate your class,make several deposits and withdrawals,and test to make sure the account\n",
    "#cant be overdrawn."
   ]
  },
  {
   "cell_type": "code",
   "execution_count": 5,
   "metadata": {},
   "outputs": [],
   "source": [
    "class Bank:\n",
    "        def __init__(self,owner_name,balance):\n",
    "            self.owner_name=owner_name\n",
    "            self.balance=balance\n",
    "            print(\"Happy Transactions!!!\")\n",
    "        def deposit(self):\n",
    "            amount=float(input())\n",
    "            self.balance+=amount\n",
    "            print(\"Amount deposited\")\n",
    "            print(\"Current balance=\",self.balance)\n",
    "        def withdraw(self):\n",
    "            amount=float(input())\n",
    "            min_balance=500\n",
    "            if (self.balance-amount)>=min_balance:\n",
    "                d=self.balance-amount\n",
    "                print(\"Amount Withdrawn\")\n",
    "            else:\n",
    "                d=self.balance\n",
    "                print(\"Minimum balance is expected..Please deposit\")\n",
    "            print(\"Current balance=\",d)"
   ]
  },
  {
   "cell_type": "code",
   "execution_count": 6,
   "metadata": {},
   "outputs": [
    {
     "name": "stdout",
     "output_type": "stream",
     "text": [
      "Happy Transactions!!!\n"
     ]
    }
   ],
   "source": [
    "b=Bank(\"Mr.ABC\",10000)"
   ]
  },
  {
   "cell_type": "code",
   "execution_count": 7,
   "metadata": {},
   "outputs": [
    {
     "name": "stdout",
     "output_type": "stream",
     "text": [
      "5000\n",
      "Amount deposited\n",
      "Current balance= 15000.0\n"
     ]
    }
   ],
   "source": [
    "b.deposit()"
   ]
  },
  {
   "cell_type": "code",
   "execution_count": 11,
   "metadata": {},
   "outputs": [
    {
     "name": "stdout",
     "output_type": "stream",
     "text": [
      "50000\n",
      "Minimum balance is expected..Please deposit\n",
      "Current balance= 15000.0\n"
     ]
    }
   ],
   "source": [
    "b.withdraw()"
   ]
  },
  {
   "cell_type": "code",
   "execution_count": 12,
   "metadata": {},
   "outputs": [
    {
     "name": "stdout",
     "output_type": "stream",
     "text": [
      "5000\n",
      "Amount Withdrawn\n",
      "Current balance= 10000.0\n"
     ]
    }
   ],
   "source": [
    "b.withdraw()"
   ]
  },
  {
   "cell_type": "code",
   "execution_count": 13,
   "metadata": {},
   "outputs": [],
   "source": [
    "#Question 2\n",
    "#For this challenge,create a cone class that has two attributes:\n",
    "#*R=Radius\n",
    "#*h=Height\n",
    "#And two methods:\n",
    "#*Volume = Π * r2 = (h/3)\n",
    "#*Surface area : base : Π * r2 , side : Π * r * √(r2 + h2)\n",
    "#Make only one class with functions,as in where required import Math"
   ]
  },
  {
   "cell_type": "code",
   "execution_count": 14,
   "metadata": {},
   "outputs": [],
   "source": [
    "from math import *\n",
    "\n",
    "class Cone:\n",
    "    def __init__(self,radius,height):\n",
    "        self.radius=radius\n",
    "        self.height=height\n",
    "    def volume(self):\n",
    "        print(\"Volume of cone = %.2f cm3\"%((1/3)*pi*(self.radius**2)*self.height))\n",
    "    def Surface_area(self):\n",
    "        print(\"SurfaceArea of the cone = %.2f cm2\"%(pi*self.radius*(self.radius+(sqrt((self.height**2)+(self.radius**2))))))"
   ]
  },
  {
   "cell_type": "code",
   "execution_count": 19,
   "metadata": {},
   "outputs": [],
   "source": [
    "cone=Cone(2,3)"
   ]
  },
  {
   "cell_type": "code",
   "execution_count": 20,
   "metadata": {},
   "outputs": [
    {
     "name": "stdout",
     "output_type": "stream",
     "text": [
      "Volume of cone = 12.57 cm3\n"
     ]
    }
   ],
   "source": [
    "cone.volume()"
   ]
  },
  {
   "cell_type": "code",
   "execution_count": 21,
   "metadata": {},
   "outputs": [
    {
     "name": "stdout",
     "output_type": "stream",
     "text": [
      "SurfaceArea of the cone = 35.22 cm2\n"
     ]
    }
   ],
   "source": [
    "cone.Surface_area()"
   ]
  }
 ],
 "metadata": {
  "kernelspec": {
   "display_name": "Python 3",
   "language": "python",
   "name": "python3"
  },
  "language_info": {
   "codemirror_mode": {
    "name": "ipython",
    "version": 3
   },
   "file_extension": ".py",
   "mimetype": "text/x-python",
   "name": "python",
   "nbconvert_exporter": "python",
   "pygments_lexer": "ipython3",
   "version": "3.7.6"
  }
 },
 "nbformat": 4,
 "nbformat_minor": 4
}

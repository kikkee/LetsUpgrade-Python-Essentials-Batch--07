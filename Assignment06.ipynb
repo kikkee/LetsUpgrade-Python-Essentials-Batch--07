{
 "cells": [
  {
   "cell_type": "code",
   "execution_count": 1,
   "metadata": {},
   "outputs": [],
   "source": [
    "#LetsUpgrade Python Essentials Batch 07"
   ]
  },
  {
   "cell_type": "code",
   "execution_count": 2,
   "metadata": {},
   "outputs": [],
   "source": [
    "#Assignment 06 Day 08"
   ]
  },
  {
   "cell_type": "code",
   "execution_count": 3,
   "metadata": {},
   "outputs": [],
   "source": [
    "#Question 1\n",
    "#Write a decorator function for your taking input for you any kind of function you want to build,\n",
    "#For example - You make a fibonacci series function,in which your input range is been defined by\n",
    "#the decorator program input."
   ]
  },
  {
   "cell_type": "code",
   "execution_count": 4,
   "metadata": {},
   "outputs": [],
   "source": [
    "def func1(func3):\n",
    "    def func2():\n",
    "        print(\"ENTER TWO NUMBERS\")\n",
    "        a=int(input(\"Enter the value of number 1 :\"))\n",
    "        b=int(input(\"Enter the value of number 2 :\"))\n",
    "        func3(a,b)\n",
    "    return func2"
   ]
  },
  {
   "cell_type": "code",
   "execution_count": 5,
   "metadata": {},
   "outputs": [],
   "source": [
    "@func1\n",
    "def func3(a,b):\n",
    "    print(*[i for i in range(a,b) if i%2==0])"
   ]
  },
  {
   "cell_type": "code",
   "execution_count": 6,
   "metadata": {},
   "outputs": [
    {
     "name": "stdout",
     "output_type": "stream",
     "text": [
      "ENTER TWO NUMBERS\n",
      "Enter the value of number 1 :1\n",
      "Enter the value of number 2 :50\n",
      "2 4 6 8 10 12 14 16 18 20 22 24 26 28 30 32 34 36 38 40 42 44 46 48\n"
     ]
    }
   ],
   "source": [
    "func3()"
   ]
  },
  {
   "cell_type": "code",
   "execution_count": 7,
   "metadata": {},
   "outputs": [
    {
     "name": "stdout",
     "output_type": "stream",
     "text": [
      "ENTER TWO NUMBERS\n",
      "Enter the value of number 1 :2\n",
      "Enter the value of number 2 :200\n",
      "2 4 6 8 10 12 14 16 18 20 22 24 26 28 30 32 34 36 38 40 42 44 46 48 50 52 54 56 58 60 62 64 66 68 70 72 74 76 78 80 82 84 86 88 90 92 94 96 98 100 102 104 106 108 110 112 114 116 118 120 122 124 126 128 130 132 134 136 138 140 142 144 146 148 150 152 154 156 158 160 162 164 166 168 170 172 174 176 178 180 182 184 186 188 190 192 194 196 198\n"
     ]
    }
   ],
   "source": [
    "func3()"
   ]
  },
  {
   "cell_type": "code",
   "execution_count": 8,
   "metadata": {},
   "outputs": [],
   "source": [
    "#Question 2\n",
    "#For this challenge you need to develop a Python program to open a file in read only mode and try\n",
    "#writing something to it and handle the subsequent errors using Exception Handling."
   ]
  },
  {
   "cell_type": "code",
   "execution_count": 9,
   "metadata": {},
   "outputs": [],
   "source": [
    "a=open(\"Sample.txt\",\"r\")"
   ]
  },
  {
   "cell_type": "code",
   "execution_count": 10,
   "metadata": {},
   "outputs": [],
   "source": [
    "p=a.read()"
   ]
  },
  {
   "cell_type": "code",
   "execution_count": 11,
   "metadata": {},
   "outputs": [
    {
     "name": "stdout",
     "output_type": "stream",
     "text": [
      "Have a Nice day! \n"
     ]
    }
   ],
   "source": [
    "print(p)"
   ]
  },
  {
   "cell_type": "code",
   "execution_count": 12,
   "metadata": {},
   "outputs": [],
   "source": [
    "a.close()"
   ]
  },
  {
   "cell_type": "code",
   "execution_count": 13,
   "metadata": {},
   "outputs": [
    {
     "name": "stdout",
     "output_type": "stream",
     "text": [
      "WARNING: Do not update file in read mode!\n"
     ]
    }
   ],
   "source": [
    "try:\n",
    "    a=open(\"Sample.txt\",\"r\")\n",
    "    a.write(\"Thank you\")\n",
    "except:\n",
    "    print(\"WARNING: Do not update file in read mode!\")\n",
    "finally:\n",
    "    a.close()"
   ]
  },
  {
   "cell_type": "code",
   "execution_count": 14,
   "metadata": {},
   "outputs": [
    {
     "name": "stdout",
     "output_type": "stream",
     "text": [
      "Have a Nice day!  Thank you\n"
     ]
    }
   ],
   "source": [
    "try:\n",
    "    a=open(\"Sample.txt\",\"a+\")\n",
    "    a.write(\" Thank you\")\n",
    "except:\n",
    "    print(\"WARNING: Do not update file in read mode!\")\n",
    "finally:\n",
    "    a.close()\n",
    "k=open(\"Sample.txt\",\"r\")\n",
    "print(k.read())"
   ]
  },
  {
   "cell_type": "code",
   "execution_count": null,
   "metadata": {},
   "outputs": [],
   "source": []
  }
 ],
 "metadata": {
  "kernelspec": {
   "display_name": "Python 3",
   "language": "python",
   "name": "python3"
  },
  "language_info": {
   "codemirror_mode": {
    "name": "ipython",
    "version": 3
   },
   "file_extension": ".py",
   "mimetype": "text/x-python",
   "name": "python",
   "nbconvert_exporter": "python",
   "pygments_lexer": "ipython3",
   "version": "3.7.6"
  }
 },
 "nbformat": 4,
 "nbformat_minor": 4
}
